{
 "cells": [
  {
   "cell_type": "markdown",
   "source": [
    "# Example 1: Basic usage\n",
    "\n",
    "This notebook is used to introduce basic usage of xdatbus for some common operations on AIMD data\n",
    "\n",
    "## Aggregating XDATCAR \n"
   ],
   "metadata": {
    "collapsed": false
   },
   "id": "40c91a45cc98b21d"
  },
  {
   "cell_type": "code",
   "execution_count": 10,
   "outputs": [],
   "source": [
    "import os\n",
    "import shutil\n",
    "from xdatbus import xdc_aggregate"
   ],
   "metadata": {
    "collapsed": false,
    "ExecuteTime": {
     "end_time": "2023-10-15T02:30:29.954615900Z",
     "start_time": "2023-10-15T02:30:29.936967Z"
    }
   },
   "id": "initial_id"
  },
  {
   "cell_type": "code",
   "execution_count": 13,
   "id": "21b41a95b0219c3e",
   "metadata": {
    "collapsed": false,
    "ExecuteTime": {
     "end_time": "2023-10-15T02:31:15.271735900Z",
     "start_time": "2023-10-15T02:31:15.252787300Z"
    }
   },
   "outputs": [],
   "source": [
    "aimd_path = \"./data\"\n",
    "main_tmp_dir = os.path.dirname(aimd_path)"
   ]
  },
  {
   "cell_type": "code",
   "execution_count": 14,
   "outputs": [
    {
     "name": "stdout",
     "output_type": "stream",
     "text": [
      "Wrapping XDATCAR_01 ...\n",
      "Number of frames in XDATCAR_01: 5000\n",
      "Wrapping XDATCAR_02 ...\n",
      "Number of frames in XDATCAR_02: 5000\n",
      "Wrapping XDATCAR_03 ...\n",
      "Number of frames in XDATCAR_03: 5000\n",
      "Combining XDATCAR files into one XDATCAR file ...\n",
      "Appending XDATCAR_02 ...\n",
      "Appending XDATCAR_03 ...\n",
      "xdatbus-func: f01_aggregate: Done!\n"
     ]
    }
   ],
   "source": [
    "xdc_aggregate(aimd_path=aimd_path, output_path=main_tmp_dir)"
   ],
   "metadata": {
    "collapsed": false,
    "ExecuteTime": {
     "end_time": "2023-10-15T02:31:53.490647400Z",
     "start_time": "2023-10-15T02:31:15.903722Z"
    }
   },
   "id": "cb587ad5d2c30d46"
  }
 ],
 "metadata": {
  "kernelspec": {
   "display_name": "Python 3 (ipykernel)",
   "language": "python",
   "name": "python3"
  },
  "language_info": {
   "codemirror_mode": {
    "name": "ipython",
    "version": 3
   },
   "file_extension": ".py",
   "mimetype": "text/x-python",
   "name": "python",
   "nbconvert_exporter": "python",
   "pygments_lexer": "ipython3",
   "version": "3.10.4"
  }
 },
 "nbformat": 4,
 "nbformat_minor": 5
}
