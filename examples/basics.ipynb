{
 "cells": [
  {
   "cell_type": "code",
   "execution_count": 6,
   "id": "initial_id",
   "metadata": {
    "ExecuteTime": {
     "end_time": "2023-10-14T23:38:44.153891900Z",
     "start_time": "2023-10-14T23:38:44.146374900Z"
    }
   },
   "outputs": [],
   "source": [
    "import os\n",
    "import shutil\n",
    "from xdatbus import f01_aggregate"
   ]
  },
  {
   "cell_type": "code",
   "execution_count": 7,
   "id": "21b41a95b0219c3e",
   "metadata": {
    "collapsed": false,
    "ExecuteTime": {
     "end_time": "2023-10-14T23:38:45.461306600Z",
     "start_time": "2023-10-14T23:38:45.443793900Z"
    }
   },
   "outputs": [],
   "source": [
    "aimd_path = str(\"data\")\n",
    "main_tmp_dir = os.path.dirname(aimd_path)"
   ]
  },
  {
   "cell_type": "code",
   "execution_count": 9,
   "outputs": [
    {
     "ename": "PermissionError",
     "evalue": "[Errno 13] Permission denied: '/XDATBUS.log'",
     "output_type": "error",
     "traceback": [
      "\u001B[1;31m---------------------------------------------------------------------------\u001B[0m",
      "\u001B[1;31mPermissionError\u001B[0m                           Traceback (most recent call last)",
      "Cell \u001B[1;32mIn[9], line 1\u001B[0m\n\u001B[1;32m----> 1\u001B[0m \u001B[43mf01_aggregate\u001B[49m\u001B[43m(\u001B[49m\u001B[43maimd_path\u001B[49m\u001B[38;5;241;43m=\u001B[39;49m\u001B[43maimd_path\u001B[49m\u001B[43m,\u001B[49m\u001B[43m \u001B[49m\u001B[43moutput_path\u001B[49m\u001B[38;5;241;43m=\u001B[39;49m\u001B[43mmain_tmp_dir\u001B[49m\u001B[43m)\u001B[49m\n",
      "File \u001B[1;32m~\\PycharmProjects\\xdatbus\\xdatbus\\f01_aggregate.py:47\u001B[0m, in \u001B[0;36mf01_aggregate\u001B[1;34m(aimd_path, output_path, min_frames, delete_temp_files)\u001B[0m\n\u001B[0;32m     44\u001B[0m \u001B[38;5;28;01mif\u001B[39;00m os\u001B[38;5;241m.\u001B[39mpath\u001B[38;5;241m.\u001B[39mexists(log_path):\n\u001B[0;32m     45\u001B[0m     os\u001B[38;5;241m.\u001B[39mremove(log_path)\n\u001B[1;32m---> 47\u001B[0m log_file \u001B[38;5;241m=\u001B[39m \u001B[38;5;28;43mopen\u001B[39;49m\u001B[43m(\u001B[49m\u001B[43mlog_path\u001B[49m\u001B[43m,\u001B[49m\u001B[43m \u001B[49m\u001B[38;5;124;43m\"\u001B[39;49m\u001B[38;5;124;43mw\u001B[39;49m\u001B[38;5;124;43m\"\u001B[39;49m\u001B[43m)\u001B[49m\n\u001B[0;32m     48\u001B[0m \u001B[38;5;28;01mfor\u001B[39;00m xdatcar_raw \u001B[38;5;129;01min\u001B[39;00m raw_list_sort:\n\u001B[0;32m     49\u001B[0m     \u001B[38;5;28mprint\u001B[39m(\u001B[38;5;124m\"\u001B[39m\u001B[38;5;124mWrapping \u001B[39m\u001B[38;5;124m\"\u001B[39m \u001B[38;5;241m+\u001B[39m xdatcar_raw \u001B[38;5;241m+\u001B[39m \u001B[38;5;124m\"\u001B[39m\u001B[38;5;124m ...\u001B[39m\u001B[38;5;124m\"\u001B[39m)\n",
      "\u001B[1;31mPermissionError\u001B[0m: [Errno 13] Permission denied: '/XDATBUS.log'"
     ]
    }
   ],
   "source": [
    "f01_aggregate(aimd_path=aimd_path, output_path=main_tmp_dir)"
   ],
   "metadata": {
    "collapsed": false,
    "ExecuteTime": {
     "end_time": "2023-10-14T23:39:42.499046300Z",
     "start_time": "2023-10-14T23:39:42.437418900Z"
    }
   },
   "id": "cb587ad5d2c30d46"
  },
  {
   "cell_type": "code",
   "execution_count": null,
   "outputs": [],
   "source": [],
   "metadata": {
    "collapsed": false
   },
   "id": "5f5a1e62c97e9082"
  }
 ],
 "metadata": {
  "kernelspec": {
   "display_name": "Python 3 (ipykernel)",
   "language": "python",
   "name": "python3"
  },
  "language_info": {
   "codemirror_mode": {
    "name": "ipython",
    "version": 3
   },
   "file_extension": ".py",
   "mimetype": "text/x-python",
   "name": "python",
   "nbconvert_exporter": "python",
   "pygments_lexer": "ipython3",
   "version": "3.10.4"
  }
 },
 "nbformat": 4,
 "nbformat_minor": 5
}
