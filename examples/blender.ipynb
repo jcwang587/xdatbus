{
 "cells": [
  {
   "cell_type": "code",
   "execution_count": 3,
   "id": "initial_id",
   "metadata": {
    "ExecuteTime": {
     "end_time": "2023-10-27T06:49:25.715926800Z",
     "start_time": "2023-10-27T06:49:22.526682700Z"
    }
   },
   "outputs": [],
   "source": [
    "import os\n",
    "import bpy\n",
    "from xdatbus import pos2bpdb"
   ]
  },
  {
   "cell_type": "markdown",
   "id": "acc7cca7-a772-4190-95a8-d539d6e19c65",
   "metadata": {
    "collapsed": false
   },
   "source": [
    "Convert the POSCAR file to a PDB file, which is readable by biotite"
   ]
  },
  {
   "cell_type": "code",
   "execution_count": 6,
   "id": "597fca83b7cd8e59",
   "metadata": {
    "ExecuteTime": {
     "end_time": "2023-10-27T06:49:25.797953300Z",
     "start_time": "2023-10-27T06:49:25.734926900Z"
    },
    "collapsed": false
   },
   "outputs": [
    {
     "name": "stdout",
     "output_type": "stream",
     "text": [
      "Output file is readable by biotite\n"
     ]
    }
   ],
   "source": [
    "current_dir = os.getcwd()\n",
    "poscar_path = os.path.join(current_dir, '../tests/data/poscar/llto.poscar')\n",
    "pdb_path = os.path.join(current_dir, 'llto.pdb')\n",
    "pos2bpdb(poscar_path, pdb_path)"
   ]
  },
  {
   "cell_type": "markdown",
   "id": "c1d1395a1bba56fc",
   "metadata": {
    "collapsed": false
   },
   "source": [
    "Set the render engine to `CYCLES` and set the device to `GPU`"
   ]
  },
  {
   "cell_type": "code",
   "execution_count": 7,
   "id": "2de7bde3f0cec834",
   "metadata": {
    "ExecuteTime": {
     "end_time": "2023-10-27T06:49:25.726925700Z",
     "start_time": "2023-10-27T06:49:25.687378900Z"
    },
    "collapsed": false
   },
   "outputs": [],
   "source": [
    "bpy.context.scene.render.engine = 'CYCLES'\n",
    "bpy.context.scene.cycles.device = \"GPU\""
   ]
  },
  {
   "cell_type": "markdown",
   "id": "4b2f0c90d313bfe0",
   "metadata": {
    "collapsed": false
   },
   "source": [
    "Set the directory and output path for the FBX file and export the scene as an FBX file"
   ]
  },
  {
   "cell_type": "code",
   "execution_count": 8,
   "id": "5102b570b69da502",
   "metadata": {
    "ExecuteTime": {
     "end_time": "2023-10-27T06:49:25.738925300Z",
     "start_time": "2023-10-27T06:49:25.702893300Z"
    },
    "collapsed": false
   },
   "outputs": [
    {
     "name": "stdout",
     "output_type": "stream",
     "text": [
      "\n",
      "FBX export starting... 'C:\\\\Users\\\\kashk\\\\PycharmProjects\\\\xdatbus\\\\examples\\\\output.fbx'\n",
      "export finished in 0.0000 sec.\n"
     ]
    },
    {
     "data": {
      "text/plain": [
       "{'FINISHED'}"
      ]
     },
     "execution_count": 8,
     "metadata": {},
     "output_type": "execute_result"
    }
   ],
   "source": [
    "output_fbx_path = os.path.join(current_dir, 'output.fbx')\n",
    "bpy.ops.export_scene.fbx(filepath=output_fbx_path, use_selection=False)"
   ]
  },
  {
   "cell_type": "code",
   "execution_count": 4,
   "id": "b57109a71bf199fb",
   "metadata": {
    "ExecuteTime": {
     "end_time": "2023-10-27T06:49:25.840545500Z",
     "start_time": "2023-10-27T06:49:25.795953300Z"
    },
    "collapsed": false
   },
   "outputs": [],
   "source": []
  },
  {
   "cell_type": "code",
   "execution_count": null,
   "id": "f31e7455-04ef-43e6-8494-ccb3e1128e96",
   "metadata": {},
   "outputs": [],
   "source": []
  }
 ],
 "metadata": {
  "kernelspec": {
   "display_name": "Python 3 (ipykernel)",
   "language": "python",
   "name": "python3"
  },
  "language_info": {
   "codemirror_mode": {
    "name": "ipython",
    "version": 3
   },
   "file_extension": ".py",
   "mimetype": "text/x-python",
   "name": "python",
   "nbconvert_exporter": "python",
   "pygments_lexer": "ipython3",
   "version": "3.10.13"
  }
 },
 "nbformat": 4,
 "nbformat_minor": 5
}
