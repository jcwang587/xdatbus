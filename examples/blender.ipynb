{
 "cells": [
  {
   "cell_type": "code",
   "execution_count": null,
   "id": "initial_id",
   "metadata": {
    "collapsed": true
   },
   "outputs": [],
   "source": [
    "import os\n",
    "import bpy\n",
    "from xdatbus import fbld01_pos2bpdb"
   ]
  },
  {
   "cell_type": "markdown",
   "source": [
    "Set the render engine to 'CYCLES' and set the device to 'GPU'"
   ],
   "metadata": {
    "collapsed": false
   },
   "id": "c1d1395a1bba56fc"
  },
  {
   "cell_type": "code",
   "execution_count": null,
   "outputs": [],
   "source": [
    "bpy.context.scene.render.engine = 'CYCLES'\n",
    "bpy.context.scene.cycles.device = \"GPU\""
   ],
   "metadata": {
    "collapsed": false
   },
   "id": "2de7bde3f0cec834"
  },
  {
   "cell_type": "markdown",
   "source": [
    "Set the directory and output path for the FBX file and export the scene as an FBX file"
   ],
   "metadata": {
    "collapsed": false
   },
   "id": "4b2f0c90d313bfe0"
  },
  {
   "cell_type": "code",
   "execution_count": null,
   "outputs": [],
   "source": [
    "current_dir = os.getcwd()\n",
    "output_fbx_path = os.path.join(current_dir, 'output.fbx')\n",
    "bpy.ops.export_scene.fbx(filepath=output_fbx_path, use_selection=False)"
   ],
   "metadata": {
    "collapsed": false
   },
   "id": "5102b570b69da502"
  },
  {
   "cell_type": "code",
   "execution_count": null,
   "outputs": [],
   "source": [],
   "metadata": {
    "collapsed": false
   },
   "id": "597fca83b7cd8e59"
  }
 ],
 "metadata": {
  "kernelspec": {
   "display_name": "Python 3",
   "language": "python",
   "name": "python3"
  },
  "language_info": {
   "codemirror_mode": {
    "name": "ipython",
    "version": 2
   },
   "file_extension": ".py",
   "mimetype": "text/x-python",
   "name": "python",
   "nbconvert_exporter": "python",
   "pygments_lexer": "ipython2",
   "version": "2.7.6"
  }
 },
 "nbformat": 4,
 "nbformat_minor": 5
}
