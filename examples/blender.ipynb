{
 "cells": [
  {
   "cell_type": "code",
   "execution_count": 13,
   "id": "initial_id",
   "metadata": {
    "ExecuteTime": {
     "end_time": "2023-10-27T07:37:53.630316200Z",
     "start_time": "2023-10-27T07:37:53.614315800Z"
    }
   },
   "outputs": [],
   "source": [
    "import os\n",
    "import bpy\n",
    "from xdatbus import pos2bpdb"
   ]
  },
  {
   "cell_type": "markdown",
   "id": "acc7cca7-a772-4190-95a8-d539d6e19c65",
   "metadata": {
    "collapsed": false
   },
   "source": [
    "Convert the POSCAR file to a PDB file, which is readable by biotite"
   ]
  },
  {
   "cell_type": "code",
   "execution_count": 14,
   "id": "597fca83b7cd8e59",
   "metadata": {
    "collapsed": false,
    "ExecuteTime": {
     "end_time": "2023-10-27T07:37:54.613411400Z",
     "start_time": "2023-10-27T07:37:54.581976Z"
    }
   },
   "outputs": [
    {
     "name": "stdout",
     "output_type": "stream",
     "text": [
      "Output file is readable by biotite\n"
     ]
    }
   ],
   "source": [
    "current_dir = os.getcwd()\n",
    "poscar_path = os.path.join(current_dir, '../tests/data/poscar/llto.poscar')\n",
    "pdb_path = os.path.join(current_dir, 'llto.pdb')\n",
    "pos2bpdb(poscar_path, pdb_path)"
   ]
  },
  {
   "cell_type": "markdown",
   "id": "c1d1395a1bba56fc",
   "metadata": {
    "collapsed": false
   },
   "source": [
    "Set the render engine to `CYCLES` and set the device to `GPU`"
   ]
  },
  {
   "cell_type": "code",
   "execution_count": 15,
   "id": "2de7bde3f0cec834",
   "metadata": {
    "collapsed": false,
    "ExecuteTime": {
     "end_time": "2023-10-27T07:37:55.671533600Z",
     "start_time": "2023-10-27T07:37:55.652531700Z"
    }
   },
   "outputs": [],
   "source": [
    "bpy.context.scene.render.engine = 'CYCLES'\n",
    "bpy.context.scene.cycles.device = \"GPU\""
   ]
  },
  {
   "cell_type": "markdown",
   "id": "4b2f0c90d313bfe0",
   "metadata": {
    "collapsed": false
   },
   "source": [
    "Set the directory and output path for the FBX file and export the scene as an FBX file"
   ]
  },
  {
   "cell_type": "code",
   "execution_count": 16,
   "id": "5102b570b69da502",
   "metadata": {
    "collapsed": false,
    "ExecuteTime": {
     "end_time": "2023-10-27T07:38:06.744893900Z",
     "start_time": "2023-10-27T07:37:56.800517700Z"
    }
   },
   "outputs": [
    {
     "name": "stdout",
     "output_type": "stream",
     "text": [
      "Added res_id after 0.0 s\n",
      "Added res_name after 0.0 s\n",
      "Added atomic_number after 0.0 s\n",
      "Added b_factor after 0.0 s\n",
      "Added vdw_radii after 0.0 s\n",
      "Added chain_id after 0.0 s\n",
      "Failed adding entity_id after 0.0 s\n",
      "Added atom_name after 0.0 s\n",
      "Added lipophobicity after 0.0 s\n",
      "Added charge after 0.0 s\n",
      "Added is_backbone after 0.0 s\n",
      "Added is_alpha_carbon after 0.0 s\n",
      "Added is_solvent after 0.0 s\n",
      "Added is_nucleic after 0.0 s\n",
      "Added is_peptide after 0.0 s\n",
      "Added is_hetero after 0.0 s\n",
      "Added is_carb after 0.0 s\n",
      "Added sec_struct after 0.0 s\n"
     ]
    }
   ],
   "source": [
    "output_fbx_path = os.path.join(current_dir, 'output.fbx')\n",
    "bpy.ops.export_scene.fbx(filepath=output_fbx_path, use_selection=False)"
   ]
  },
  {
   "cell_type": "code",
   "execution_count": 4,
   "id": "b57109a71bf199fb",
   "metadata": {
    "ExecuteTime": {
     "end_time": "2023-10-27T06:49:25.840545500Z",
     "start_time": "2023-10-27T06:49:25.795953300Z"
    },
    "collapsed": false
   },
   "outputs": [],
   "source": []
  },
  {
   "cell_type": "code",
   "execution_count": null,
   "id": "f31e7455-04ef-43e6-8494-ccb3e1128e96",
   "metadata": {},
   "outputs": [],
   "source": []
  }
 ],
 "metadata": {
  "kernelspec": {
   "display_name": "Python 3 (ipykernel)",
   "language": "python",
   "name": "python3"
  },
  "language_info": {
   "codemirror_mode": {
    "name": "ipython",
    "version": 3
   },
   "file_extension": ".py",
   "mimetype": "text/x-python",
   "name": "python",
   "nbconvert_exporter": "python",
   "pygments_lexer": "ipython3",
   "version": "3.10.13"
  }
 },
 "nbformat": 4,
 "nbformat_minor": 5
}
