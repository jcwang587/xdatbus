{
 "cells": [
  {
   "cell_type": "code",
   "execution_count": 2,
   "id": "initial_id",
   "metadata": {
    "ExecuteTime": {
     "end_time": "2023-10-27T06:05:47.267393800Z",
     "start_time": "2023-10-27T06:05:45.253278400Z"
    }
   },
   "outputs": [],
   "source": [
    "import os\n",
    "import bpy\n",
    "from xdatbus import pos2bpdb"
   ]
  },
  {
   "cell_type": "markdown",
   "id": "c1d1395a1bba56fc",
   "metadata": {
    "collapsed": false,
    "jupyter": {
     "outputs_hidden": false
    }
   },
   "source": [
    "Set the render engine to `CYCLES` and set the device to `GPU`"
   ]
  },
  {
   "cell_type": "code",
   "execution_count": 3,
   "id": "2de7bde3f0cec834",
   "metadata": {
    "ExecuteTime": {
     "end_time": "2023-10-27T06:05:50.225154900Z",
     "start_time": "2023-10-27T06:05:50.204641900Z"
    },
    "collapsed": false,
    "jupyter": {
     "outputs_hidden": false
    }
   },
   "outputs": [],
   "source": [
    "bpy.context.scene.render.engine = 'CYCLES'\n",
    "bpy.context.scene.cycles.device = \"GPU\""
   ]
  },
  {
   "cell_type": "markdown",
   "id": "4b2f0c90d313bfe0",
   "metadata": {
    "collapsed": false,
    "jupyter": {
     "outputs_hidden": false
    }
   },
   "source": [
    "Set the directory and output path for the FBX file and export the scene as an FBX file"
   ]
  },
  {
   "cell_type": "code",
   "execution_count": 4,
   "id": "5102b570b69da502",
   "metadata": {
    "ExecuteTime": {
     "end_time": "2023-10-27T06:05:52.073947100Z",
     "start_time": "2023-10-27T06:05:52.035430200Z"
    },
    "collapsed": false,
    "jupyter": {
     "outputs_hidden": false
    }
   },
   "outputs": [
    {
     "name": "stdout",
     "output_type": "stream",
     "text": [
      "\n",
      "FBX export starting... 'C:\\\\Users\\\\kashk\\\\PycharmProjects\\\\xdatbus\\\\examples\\\\output.fbx'\n",
      "export finished in 0.0000 sec.\n"
     ]
    },
    {
     "data": {
      "text/plain": [
       "{'FINISHED'}"
      ]
     },
     "execution_count": 4,
     "metadata": {},
     "output_type": "execute_result"
    }
   ],
   "source": [
    "current_dir = os.getcwd()\n",
    "output_fbx_path = os.path.join(current_dir, 'output.fbx')\n",
    "bpy.ops.export_scene.fbx(filepath=output_fbx_path, use_selection=False)"
   ]
  },
  {
   "cell_type": "markdown",
   "id": "15bcce5673fb0646",
   "metadata": {
    "collapsed": false,
    "jupyter": {
     "outputs_hidden": false
    }
   },
   "source": [
    "Convert the POSCAR file to a PDB file, which is readable by biotite"
   ]
  },
  {
   "cell_type": "code",
   "execution_count": 5,
   "id": "597fca83b7cd8e59",
   "metadata": {
    "ExecuteTime": {
     "end_time": "2023-10-27T06:08:26.042522400Z",
     "start_time": "2023-10-27T06:08:26.005494600Z"
    },
    "collapsed": false,
    "jupyter": {
     "outputs_hidden": false
    }
   },
   "outputs": [],
   "source": [
    "poscar_path = os.path.join(current_dir, '../tests/data/poscar/llto.poscar')\n",
    "pdb_path = os.path.join(current_dir, 'llto.pdb')\n",
    "pos2bpdb(poscar_path, output_fbx_path)"
   ]
  },
  {
   "cell_type": "code",
   "execution_count": null,
   "id": "b57109a71bf199fb",
   "metadata": {
    "ExecuteTime": {
     "start_time": "2023-10-27T05:23:34.713843700Z"
    },
    "collapsed": false,
    "jupyter": {
     "outputs_hidden": false
    }
   },
   "outputs": [],
   "source": []
  }
 ],
 "metadata": {
  "kernelspec": {
   "display_name": "Python 3 (ipykernel)",
   "language": "python",
   "name": "python3"
  },
  "language_info": {
   "codemirror_mode": {
    "name": "ipython",
    "version": 3
   },
   "file_extension": ".py",
   "mimetype": "text/x-python",
   "name": "python",
   "nbconvert_exporter": "python",
   "pygments_lexer": "ipython3",
   "version": "3.10.13"
  }
 },
 "nbformat": 4,
 "nbformat_minor": 5
}
