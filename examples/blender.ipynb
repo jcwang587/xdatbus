{
 "cells": [
  {
   "cell_type": "code",
   "execution_count": 1,
   "id": "initial_id",
   "metadata": {
    "ExecuteTime": {
     "end_time": "2023-11-02T06:42:16.583470800Z",
     "start_time": "2023-11-02T06:42:10.948290700Z"
    }
   },
   "outputs": [
    {
     "name": "stderr",
     "output_type": "stream",
     "text": [
      "C:\\Users\\kashk\\AppData\\Roaming\\Python\\Python310\\site-packages\\tqdm\\auto.py:21: TqdmWarning: IProgress not found. Please update jupyter and ipywidgets. See https://ipywidgets.readthedocs.io/en/stable/user_install.html\n",
      "  from .autonotebook import tqdm as notebook_tqdm\n"
     ]
    }
   ],
   "source": [
    "import os\n",
    "import bpy\n",
    "import molecularnodes as mn\n",
    "from xdatbus import pos2bpdb"
   ]
  },
  {
   "cell_type": "markdown",
   "id": "acc7cca7-a772-4190-95a8-d539d6e19c65",
   "metadata": {
    "collapsed": false
   },
   "source": [
    "Convert the POSCAR file to a PDB file, which is readable by biotite"
   ]
  },
  {
   "cell_type": "code",
   "execution_count": 2,
   "id": "597fca83b7cd8e59",
   "metadata": {
    "collapsed": false,
    "ExecuteTime": {
     "end_time": "2023-11-02T06:42:16.633473800Z",
     "start_time": "2023-11-02T06:42:16.585471300Z"
    }
   },
   "outputs": [
    {
     "name": "stdout",
     "output_type": "stream",
     "text": [
      "Output file is readable by biotite\n"
     ]
    }
   ],
   "source": [
    "current_dir = os.getcwd()\n",
    "poscar_path = os.path.join(current_dir, '../tests/data/poscar/llto.poscar')\n",
    "pdb_path = os.path.join(current_dir, 'llto.pdb')\n",
    "pos2bpdb(poscar_path, pdb_path)"
   ]
  },
  {
   "cell_type": "markdown",
   "id": "c1d1395a1bba56fc",
   "metadata": {
    "collapsed": false
   },
   "source": [
    "Set the render engine to `CYCLES` and set the device to `GPU`"
   ]
  },
  {
   "cell_type": "code",
   "execution_count": 3,
   "id": "2de7bde3f0cec834",
   "metadata": {
    "collapsed": false,
    "ExecuteTime": {
     "end_time": "2023-11-02T06:42:16.645470200Z",
     "start_time": "2023-11-02T06:42:16.632472100Z"
    }
   },
   "outputs": [],
   "source": [
    "bpy.context.scene.render.engine = 'CYCLES'\n",
    "bpy.context.scene.cycles.device = \"GPU\""
   ]
  },
  {
   "cell_type": "markdown",
   "source": [
    "Clear any existing mesh objects"
   ],
   "metadata": {
    "collapsed": false
   },
   "id": "66c724aa27024cb2"
  },
  {
   "cell_type": "code",
   "execution_count": 4,
   "outputs": [
    {
     "data": {
      "text/plain": "{'FINISHED'}"
     },
     "execution_count": 4,
     "metadata": {},
     "output_type": "execute_result"
    }
   ],
   "source": [
    "bpy.ops.object.select_all(action='DESELECT')\n",
    "bpy.ops.object.select_by_type(type='MESH')\n",
    "bpy.ops.object.delete()"
   ],
   "metadata": {
    "collapsed": false,
    "ExecuteTime": {
     "end_time": "2023-11-02T06:42:16.706031800Z",
     "start_time": "2023-11-02T06:42:16.647469900Z"
    }
   },
   "id": "1333b41b3bba1cb0"
  },
  {
   "cell_type": "markdown",
   "id": "4b2f0c90d313bfe0",
   "metadata": {
    "collapsed": false
   },
   "source": [
    "Load molecule from the PDB file"
   ]
  },
  {
   "cell_type": "code",
   "execution_count": 5,
   "id": "5102b570b69da502",
   "metadata": {
    "collapsed": false,
    "ExecuteTime": {
     "end_time": "2023-11-02T06:42:26.522780600Z",
     "start_time": "2023-11-02T06:42:16.664499900Z"
    }
   },
   "outputs": [
    {
     "name": "stdout",
     "output_type": "stream",
     "text": [
      "Added res_id after 0.0 s\n",
      "Added res_name after 0.0 s\n",
      "Added atomic_number after 0.0 s\n",
      "Added b_factor after 0.0 s\n",
      "Added vdw_radii after 0.0 s\n",
      "Added chain_id after 0.0 s\n",
      "Failed adding entity_id after 0.0 s\n",
      "Added atom_name after 0.0 s\n",
      "Added lipophobicity after 0.0 s\n",
      "Added charge after 0.0 s\n",
      "Added is_backbone after 0.0 s\n",
      "Added is_alpha_carbon after 0.0 s\n",
      "Added is_solvent after 0.0 s\n",
      "Added is_nucleic after 0.0 s\n",
      "Added is_peptide after 0.0 s\n",
      "Added is_hetero after 0.0 s\n",
      "Added is_carb after 0.0 s\n",
      "Added sec_struct after 0.0 s\n"
     ]
    }
   ],
   "source": [
    "obj = mn.load.molecule_local(pdb_path, default_style='ball_and_stick')"
   ]
  },
  {
   "cell_type": "markdown",
   "source": [
    "Make sure the molecule object is the active object"
   ],
   "metadata": {
    "collapsed": false
   },
   "id": "70c9eb429a28fd87"
  },
  {
   "cell_type": "code",
   "execution_count": 6,
   "id": "b57109a71bf199fb",
   "metadata": {
    "collapsed": false,
    "ExecuteTime": {
     "end_time": "2023-11-02T06:42:26.534779400Z",
     "start_time": "2023-11-02T06:42:26.520779600Z"
    }
   },
   "outputs": [],
   "source": [
    "bpy.context.view_layer.objects.active = obj\n",
    "obj.select_set(True)"
   ]
  },
  {
   "cell_type": "markdown",
   "source": [
    "Apply all modifiers"
   ],
   "metadata": {
    "collapsed": false
   },
   "id": "56f73ee42197032"
  },
  {
   "cell_type": "code",
   "execution_count": 7,
   "outputs": [
    {
     "name": "stderr",
     "output_type": "stream",
     "text": [
      "C:\\Users\\kashk\\AppData\\Local\\Temp\\ipykernel_39284\\3466579883.py:2: DeprecationWarning: Passing in context overrides is deprecated in favor of Context.temp_override(..), calling \"object.modifier_apply\"\n",
      "  bpy.ops.object.modifier_apply({\"object\": obj}, modifier=modifier.name)\n"
     ]
    }
   ],
   "source": [
    "for modifier in obj.modifiers:\n",
    "    bpy.ops.object.modifier_apply({\"object\": obj}, modifier=modifier.name)"
   ],
   "metadata": {
    "collapsed": false,
    "ExecuteTime": {
     "end_time": "2023-11-02T06:42:26.601811500Z",
     "start_time": "2023-11-02T06:42:26.535779700Z"
    }
   },
   "id": "f29f4b380fc23cca"
  },
  {
   "cell_type": "markdown",
   "source": [
    "Export the scene to FBX"
   ],
   "metadata": {
    "collapsed": false
   },
   "id": "480365f8a13dc699"
  },
  {
   "cell_type": "code",
   "execution_count": 8,
   "outputs": [
    {
     "name": "stdout",
     "output_type": "stream",
     "text": [
      "\n",
      "FBX export starting... 'C:\\\\Users\\\\kashk\\\\PycharmProjects\\\\xdatbus\\\\examples\\\\output.fbx'\n",
      "export finished in 0.0000 sec.\n"
     ]
    },
    {
     "data": {
      "text/plain": "{'FINISHED'}"
     },
     "execution_count": 8,
     "metadata": {},
     "output_type": "execute_result"
    }
   ],
   "source": [
    "output_fbx_path = os.path.join(current_dir, 'output.fbx')\n",
    "bpy.ops.export_scene.fbx(filepath=output_fbx_path, use_selection=False)"
   ],
   "metadata": {
    "collapsed": false,
    "ExecuteTime": {
     "end_time": "2023-11-02T06:42:26.612324200Z",
     "start_time": "2023-11-02T06:42:26.583301200Z"
    }
   },
   "id": "8acacbaeec41cf3a"
  }
 ],
 "metadata": {
  "kernelspec": {
   "display_name": "Python 3 (ipykernel)",
   "language": "python",
   "name": "python3"
  },
  "language_info": {
   "codemirror_mode": {
    "name": "ipython",
    "version": 3
   },
   "file_extension": ".py",
   "mimetype": "text/x-python",
   "name": "python",
   "nbconvert_exporter": "python",
   "pygments_lexer": "ipython3",
   "version": "3.10.13"
  }
 },
 "nbformat": 4,
 "nbformat_minor": 5
}
