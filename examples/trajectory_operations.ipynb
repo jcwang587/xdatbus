{
  "cells": [
    {
      "cell_type": "markdown",
      "id": "2aae3491c04c8493",
      "metadata": {
        "id": "2aae3491c04c8493"
      },
      "source": [
        "# Example 1: Trajectory operations\n",
        "\n",
        "This notebook is used to introduce basic usage of xdatbus for some common operations on AIMD data\n",
        "\n",
        "## Aggregating XDATCAR"
      ]
    },
    {
      "cell_type": "code",
      "source": [
        "!pip install xdatbus &> /dev/null"
      ],
      "metadata": {
        "id": "kanvHK0JdvrB"
      },
      "id": "kanvHK0JdvrB",
      "execution_count": 1,
      "outputs": []
    },
    {
      "cell_type": "code",
      "source": [
        "!git clone https://github.com/jcwang587/xdatbus.git"
      ],
      "metadata": {
        "id": "rpUWS3vdgfsU",
        "outputId": "7c470fe5-1bb5-43a5-d2d1-17a5b3b56358",
        "colab": {
          "base_uri": "https://localhost:8080/"
        }
      },
      "id": "rpUWS3vdgfsU",
      "execution_count": 2,
      "outputs": [
        {
          "output_type": "stream",
          "name": "stdout",
          "text": [
            "Cloning into 'xdatbus'...\n",
            "remote: Enumerating objects: 4605, done.\u001b[K\n",
            "remote: Counting objects: 100% (1427/1427), done.\u001b[K\n",
            "remote: Compressing objects: 100% (654/654), done.\u001b[K\n",
            "remote: Total 4605 (delta 888), reused 1198 (delta 762), pack-reused 3178\u001b[K\n",
            "Receiving objects: 100% (4605/4605), 40.69 MiB | 11.47 MiB/s, done.\n",
            "Resolving deltas: 100% (2914/2914), done.\n"
          ]
        }
      ]
    },
    {
      "cell_type": "code",
      "execution_count": 4,
      "id": "initial_id",
      "metadata": {
        "ExecuteTime": {
          "end_time": "2024-03-15T18:50:04.313729Z",
          "start_time": "2024-03-15T18:50:04.301729Z"
        },
        "id": "initial_id"
      },
      "outputs": [],
      "source": [
        "import os\n",
        "from xdatbus import xdc_aggregate"
      ]
    },
    {
      "cell_type": "code",
      "execution_count": 5,
      "id": "21b41a95b0219c3e",
      "metadata": {
        "ExecuteTime": {
          "end_time": "2024-03-15T18:50:05.499818Z",
          "start_time": "2024-03-15T18:50:05.482281Z"
        },
        "id": "21b41a95b0219c3e"
      },
      "outputs": [],
      "source": [
        "xdc_dir = \"xdatbus/tests/data/xdatcar\"\n",
        "xdb_dir = os.path.dirname(xdc_dir)"
      ]
    },
    {
      "cell_type": "code",
      "execution_count": 6,
      "id": "cb587ad5d2c30d46",
      "metadata": {
        "ExecuteTime": {
          "end_time": "2024-03-15T18:50:07.235907Z",
          "start_time": "2024-03-15T18:50:06.406110Z"
        },
        "colab": {
          "base_uri": "https://localhost:8080/",
          "height": 129,
          "referenced_widgets": [
            "9fed648249074465bee981037877705a",
            "5862d9b7c66f43bbb6cc8ff7a900900c"
          ]
        },
        "id": "cb587ad5d2c30d46",
        "outputId": "af9545e8-5ecf-4027-ea9e-32a803aeb2fd"
      },
      "outputs": [
        {
          "output_type": "display_data",
          "data": {
            "text/plain": [
              "\u001b[2;36m[19:14:35]\u001b[0m\u001b[2;36m \u001b[0msequence: \u001b[1m[\u001b[0m\u001b[32m'XDATCAR_01'\u001b[0m, \u001b[32m'XDATCAR_02'\u001b[0m, \u001b[32m'XDATCAR_03'\u001b[0m\u001b[1m]\u001b[0m                                                    \n"
            ],
            "text/html": [
              "<pre style=\"white-space:pre;overflow-x:auto;line-height:normal;font-family:Menlo,'DejaVu Sans Mono',consolas,'Courier New',monospace\"><span style=\"color: #7fbfbf; text-decoration-color: #7fbfbf\">[19:14:35] </span>sequence: <span style=\"font-weight: bold\">[</span><span style=\"color: #008000; text-decoration-color: #008000\">'XDATCAR_01'</span>, <span style=\"color: #008000; text-decoration-color: #008000\">'XDATCAR_02'</span>, <span style=\"color: #008000; text-decoration-color: #008000\">'XDATCAR_03'</span><span style=\"font-weight: bold\">]</span>                                                    \n",
              "</pre>\n"
            ]
          },
          "metadata": {}
        },
        {
          "output_type": "display_data",
          "data": {
            "text/plain": [
              "Output()"
            ],
            "application/vnd.jupyter.widget-view+json": {
              "version_major": 2,
              "version_minor": 0,
              "model_id": "9fed648249074465bee981037877705a"
            }
          },
          "metadata": {}
        },
        {
          "output_type": "display_data",
          "data": {
            "text/plain": [
              "\u001b[2;36m[19:14:36]\u001b[0m\u001b[2;36m \u001b[0mxdc_aggregate: wrapping XDATCAR_01 | number of frames: \u001b[1;36m50\u001b[0m                                               \n"
            ],
            "text/html": [
              "<pre style=\"white-space:pre;overflow-x:auto;line-height:normal;font-family:Menlo,'DejaVu Sans Mono',consolas,'Courier New',monospace\"><span style=\"color: #7fbfbf; text-decoration-color: #7fbfbf\">[19:14:36] </span>xdc_aggregate: wrapping XDATCAR_01 | number of frames: <span style=\"color: #008080; text-decoration-color: #008080; font-weight: bold\">50</span>                                               \n",
              "</pre>\n"
            ]
          },
          "metadata": {}
        },
        {
          "output_type": "display_data",
          "data": {
            "text/plain": [
              "\u001b[2;36m          \u001b[0m\u001b[2;36m \u001b[0mxdc_aggregate: wrapping XDATCAR_02 | number of frames: \u001b[1;36m50\u001b[0m                                               \n"
            ],
            "text/html": [
              "<pre style=\"white-space:pre;overflow-x:auto;line-height:normal;font-family:Menlo,'DejaVu Sans Mono',consolas,'Courier New',monospace\"><span style=\"color: #7fbfbf; text-decoration-color: #7fbfbf\">           </span>xdc_aggregate: wrapping XDATCAR_02 | number of frames: <span style=\"color: #008080; text-decoration-color: #008080; font-weight: bold\">50</span>                                               \n",
              "</pre>\n"
            ]
          },
          "metadata": {}
        },
        {
          "output_type": "display_data",
          "data": {
            "text/plain": [
              "\u001b[2;36m          \u001b[0m\u001b[2;36m \u001b[0mxdc_aggregate: wrapping XDATCAR_03 | number of frames: \u001b[1;36m50\u001b[0m                                               \n"
            ],
            "text/html": [
              "<pre style=\"white-space:pre;overflow-x:auto;line-height:normal;font-family:Menlo,'DejaVu Sans Mono',consolas,'Courier New',monospace\"><span style=\"color: #7fbfbf; text-decoration-color: #7fbfbf\">           </span>xdc_aggregate: wrapping XDATCAR_03 | number of frames: <span style=\"color: #008080; text-decoration-color: #008080; font-weight: bold\">50</span>                                               \n",
              "</pre>\n"
            ]
          },
          "metadata": {}
        },
        {
          "output_type": "display_data",
          "data": {
            "text/plain": [
              "\u001b[2;36m          \u001b[0m\u001b[2;36m \u001b[0mxdc_aggregate: initializing XDATBUS                                                                     \n"
            ],
            "text/html": [
              "<pre style=\"white-space:pre;overflow-x:auto;line-height:normal;font-family:Menlo,'DejaVu Sans Mono',consolas,'Courier New',monospace\"><span style=\"color: #7fbfbf; text-decoration-color: #7fbfbf\">           </span>xdc_aggregate: initializing XDATBUS                                                                     \n",
              "</pre>\n"
            ]
          },
          "metadata": {}
        },
        {
          "output_type": "display_data",
          "data": {
            "text/plain": [
              "\u001b[2;36m          \u001b[0m\u001b[2;36m \u001b[0mxdc_aggregate: appending XDATCAR_02                                                                     \n"
            ],
            "text/html": [
              "<pre style=\"white-space:pre;overflow-x:auto;line-height:normal;font-family:Menlo,'DejaVu Sans Mono',consolas,'Courier New',monospace\"><span style=\"color: #7fbfbf; text-decoration-color: #7fbfbf\">           </span>xdc_aggregate: appending XDATCAR_02                                                                     \n",
              "</pre>\n"
            ]
          },
          "metadata": {}
        },
        {
          "output_type": "display_data",
          "data": {
            "text/plain": [
              "\u001b[2;36m          \u001b[0m\u001b[2;36m \u001b[0mxdc_aggregate: appending XDATCAR_03                                                                     \n"
            ],
            "text/html": [
              "<pre style=\"white-space:pre;overflow-x:auto;line-height:normal;font-family:Menlo,'DejaVu Sans Mono',consolas,'Courier New',monospace\"><span style=\"color: #7fbfbf; text-decoration-color: #7fbfbf\">           </span>xdc_aggregate: appending XDATCAR_03                                                                     \n",
              "</pre>\n"
            ]
          },
          "metadata": {}
        },
        {
          "output_type": "display_data",
          "data": {
            "text/plain": [],
            "text/html": [
              "<pre style=\"white-space:pre;overflow-x:auto;line-height:normal;font-family:Menlo,'DejaVu Sans Mono',consolas,'Courier New',monospace\"></pre>\n"
            ]
          },
          "metadata": {}
        },
        {
          "output_type": "display_data",
          "data": {
            "text/plain": [
              "\n"
            ],
            "text/html": [
              "<pre style=\"white-space:pre;overflow-x:auto;line-height:normal;font-family:Menlo,'DejaVu Sans Mono',consolas,'Courier New',monospace\">\n",
              "</pre>\n"
            ]
          },
          "metadata": {}
        }
      ],
      "source": [
        "xdc_aggregate(xdc_dir=xdc_dir, output_dir=xdb_dir)"
      ]
    }
  ],
  "metadata": {
    "kernelspec": {
      "display_name": "Python 3 (ipykernel)",
      "language": "python",
      "name": "python3"
    },
    "language_info": {
      "codemirror_mode": {
        "name": "ipython",
        "version": 3
      },
      "file_extension": ".py",
      "mimetype": "text/x-python",
      "name": "python",
      "nbconvert_exporter": "python",
      "pygments_lexer": "ipython3",
      "version": "3.9.7"
    },
    "colab": {
      "provenance": []
    },
    "widgets": {
      "application/vnd.jupyter.widget-state+json": {
        "9fed648249074465bee981037877705a": {
          "model_module": "@jupyter-widgets/output",
          "model_name": "OutputModel",
          "model_module_version": "1.0.0",
          "state": {
            "_dom_classes": [],
            "_model_module": "@jupyter-widgets/output",
            "_model_module_version": "1.0.0",
            "_model_name": "OutputModel",
            "_view_count": null,
            "_view_module": "@jupyter-widgets/output",
            "_view_module_version": "1.0.0",
            "_view_name": "OutputView",
            "layout": "IPY_MODEL_5862d9b7c66f43bbb6cc8ff7a900900c",
            "msg_id": "",
            "outputs": [
              {
                "output_type": "display_data",
                "data": {
                  "text/plain": "",
                  "text/html": "<pre style=\"white-space:pre;overflow-x:auto;line-height:normal;font-family:Menlo,'DejaVu Sans Mono',consolas,'Courier New',monospace\"></pre>\n"
                },
                "metadata": {}
              }
            ]
          }
        },
        "5862d9b7c66f43bbb6cc8ff7a900900c": {
          "model_module": "@jupyter-widgets/base",
          "model_name": "LayoutModel",
          "model_module_version": "1.2.0",
          "state": {
            "_model_module": "@jupyter-widgets/base",
            "_model_module_version": "1.2.0",
            "_model_name": "LayoutModel",
            "_view_count": null,
            "_view_module": "@jupyter-widgets/base",
            "_view_module_version": "1.2.0",
            "_view_name": "LayoutView",
            "align_content": null,
            "align_items": null,
            "align_self": null,
            "border": null,
            "bottom": null,
            "display": null,
            "flex": null,
            "flex_flow": null,
            "grid_area": null,
            "grid_auto_columns": null,
            "grid_auto_flow": null,
            "grid_auto_rows": null,
            "grid_column": null,
            "grid_gap": null,
            "grid_row": null,
            "grid_template_areas": null,
            "grid_template_columns": null,
            "grid_template_rows": null,
            "height": null,
            "justify_content": null,
            "justify_items": null,
            "left": null,
            "margin": null,
            "max_height": null,
            "max_width": null,
            "min_height": null,
            "min_width": null,
            "object_fit": null,
            "object_position": null,
            "order": null,
            "overflow": null,
            "overflow_x": null,
            "overflow_y": null,
            "padding": null,
            "right": null,
            "top": null,
            "visibility": null,
            "width": null
          }
        }
      }
    }
  },
  "nbformat": 4,
  "nbformat_minor": 5
}