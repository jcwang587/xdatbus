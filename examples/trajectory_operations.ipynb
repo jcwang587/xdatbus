{
 "cells": [
  {
   "cell_type": "markdown",
   "id": "2aae3491c04c8493",
   "metadata": {},
   "source": [
    "# Example 1: Trajectory operations\n",
    "\n",
    "This notebook is used to introduce basic usage of xdatbus for some common operations on AIMD data\n",
    "\n",
    "## Aggregating XDATCAR "
   ]
  },
  {
   "cell_type": "code",
   "execution_count": 4,
   "id": "initial_id",
   "metadata": {
    "ExecuteTime": {
     "end_time": "2024-03-15T18:50:04.313729Z",
     "start_time": "2024-03-15T18:50:04.301729Z"
    }
   },
   "outputs": [],
   "source": [
    "import os\n",
    "from xdatbus import xdc_aggregate"
   ]
  },
  {
   "cell_type": "code",
   "execution_count": 5,
   "id": "21b41a95b0219c3e",
   "metadata": {
    "ExecuteTime": {
     "end_time": "2024-03-15T18:50:05.499818Z",
     "start_time": "2024-03-15T18:50:05.482281Z"
    }
   },
   "outputs": [],
   "source": [
    "xdc_dir = \"../tests/data/xdatcar\"\n",
    "xdb_dir = os.path.dirname(xdc_dir)"
   ]
  },
  {
   "cell_type": "code",
   "execution_count": 6,
   "id": "cb587ad5d2c30d46",
   "metadata": {
    "ExecuteTime": {
     "end_time": "2024-03-15T18:50:07.235907Z",
     "start_time": "2024-03-15T18:50:06.406110Z"
    }
   },
   "outputs": [
    {
     "data": {
      "text/plain": "\u001B[2;36m[14:50:06]\u001B[0m\u001B[2;36m \u001B[0msequence: \u001B[1m[\u001B[0m\u001B[32m'XDATCAR_01'\u001B[0m, \u001B[32m'XDATCAR_02'\u001B[0m, \u001B[32m'XDATCAR_03'\u001B[0m\u001B[1m]\u001B[0m                                                    \n",
      "text/html": "<pre style=\"white-space:pre;overflow-x:auto;line-height:normal;font-family:Menlo,'DejaVu Sans Mono',consolas,'Courier New',monospace\"><span style=\"color: #7fbfbf; text-decoration-color: #7fbfbf\">[14:50:06] </span>sequence: <span style=\"font-weight: bold\">[</span><span style=\"color: #008000; text-decoration-color: #008000\">'XDATCAR_01'</span>, <span style=\"color: #008000; text-decoration-color: #008000\">'XDATCAR_02'</span>, <span style=\"color: #008000; text-decoration-color: #008000\">'XDATCAR_03'</span><span style=\"font-weight: bold\">]</span>                                                    \n</pre>\n"
     },
     "metadata": {},
     "output_type": "display_data"
    },
    {
     "data": {
      "text/plain": "Output()",
      "application/vnd.jupyter.widget-view+json": {
       "version_major": 2,
       "version_minor": 0,
       "model_id": "ba1429cb795e40bebaa06b88af6e175c"
      }
     },
     "metadata": {},
     "output_type": "display_data"
    },
    {
     "data": {
      "text/plain": "\u001B[2;36m          \u001B[0m\u001B[2;36m \u001B[0mxdc_aggregate: wrapping XDATCAR_01 | number of frames: \u001B[1;36m50\u001B[0m                                               \n",
      "text/html": "<pre style=\"white-space:pre;overflow-x:auto;line-height:normal;font-family:Menlo,'DejaVu Sans Mono',consolas,'Courier New',monospace\"><span style=\"color: #7fbfbf; text-decoration-color: #7fbfbf\">           </span>xdc_aggregate: wrapping XDATCAR_01 | number of frames: <span style=\"color: #008080; text-decoration-color: #008080; font-weight: bold\">50</span>                                               \n</pre>\n"
     },
     "metadata": {},
     "output_type": "display_data"
    },
    {
     "data": {
      "text/plain": "\u001B[2;36m          \u001B[0m\u001B[2;36m \u001B[0mxdc_aggregate: wrapping XDATCAR_02 | number of frames: \u001B[1;36m50\u001B[0m                                               \n",
      "text/html": "<pre style=\"white-space:pre;overflow-x:auto;line-height:normal;font-family:Menlo,'DejaVu Sans Mono',consolas,'Courier New',monospace\"><span style=\"color: #7fbfbf; text-decoration-color: #7fbfbf\">           </span>xdc_aggregate: wrapping XDATCAR_02 | number of frames: <span style=\"color: #008080; text-decoration-color: #008080; font-weight: bold\">50</span>                                               \n</pre>\n"
     },
     "metadata": {},
     "output_type": "display_data"
    },
    {
     "data": {
      "text/plain": "\u001B[2;36m          \u001B[0m\u001B[2;36m \u001B[0mxdc_aggregate: wrapping XDATCAR_03 | number of frames: \u001B[1;36m50\u001B[0m                                               \n",
      "text/html": "<pre style=\"white-space:pre;overflow-x:auto;line-height:normal;font-family:Menlo,'DejaVu Sans Mono',consolas,'Courier New',monospace\"><span style=\"color: #7fbfbf; text-decoration-color: #7fbfbf\">           </span>xdc_aggregate: wrapping XDATCAR_03 | number of frames: <span style=\"color: #008080; text-decoration-color: #008080; font-weight: bold\">50</span>                                               \n</pre>\n"
     },
     "metadata": {},
     "output_type": "display_data"
    },
    {
     "data": {
      "text/plain": "\u001B[2;36m          \u001B[0m\u001B[2;36m \u001B[0mxdc_aggregate: initializing XDATBUS                                                                     \n",
      "text/html": "<pre style=\"white-space:pre;overflow-x:auto;line-height:normal;font-family:Menlo,'DejaVu Sans Mono',consolas,'Courier New',monospace\"><span style=\"color: #7fbfbf; text-decoration-color: #7fbfbf\">           </span>xdc_aggregate: initializing XDATBUS                                                                     \n</pre>\n"
     },
     "metadata": {},
     "output_type": "display_data"
    },
    {
     "data": {
      "text/plain": "\u001B[2;36m[14:50:07]\u001B[0m\u001B[2;36m \u001B[0mxdc_aggregate: appending XDATCAR_02                                                                     \n",
      "text/html": "<pre style=\"white-space:pre;overflow-x:auto;line-height:normal;font-family:Menlo,'DejaVu Sans Mono',consolas,'Courier New',monospace\"><span style=\"color: #7fbfbf; text-decoration-color: #7fbfbf\">[14:50:07] </span>xdc_aggregate: appending XDATCAR_02                                                                     \n</pre>\n"
     },
     "metadata": {},
     "output_type": "display_data"
    },
    {
     "data": {
      "text/plain": "\u001B[2;36m          \u001B[0m\u001B[2;36m \u001B[0mxdc_aggregate: appending XDATCAR_03                                                                     \n",
      "text/html": "<pre style=\"white-space:pre;overflow-x:auto;line-height:normal;font-family:Menlo,'DejaVu Sans Mono',consolas,'Courier New',monospace\"><span style=\"color: #7fbfbf; text-decoration-color: #7fbfbf\">           </span>xdc_aggregate: appending XDATCAR_03                                                                     \n</pre>\n"
     },
     "metadata": {},
     "output_type": "display_data"
    },
    {
     "data": {
      "text/plain": "",
      "text/html": "<pre style=\"white-space:pre;overflow-x:auto;line-height:normal;font-family:Menlo,'DejaVu Sans Mono',consolas,'Courier New',monospace\"></pre>\n"
     },
     "metadata": {},
     "output_type": "display_data"
    },
    {
     "data": {
      "text/plain": "\n",
      "text/html": "<pre style=\"white-space:pre;overflow-x:auto;line-height:normal;font-family:Menlo,'DejaVu Sans Mono',consolas,'Courier New',monospace\">\n</pre>\n"
     },
     "metadata": {},
     "output_type": "display_data"
    }
   ],
   "source": [
    "xdc_aggregate(xdc_dir=xdc_dir, output_dir=xdb_dir)"
   ]
  },
  {
   "cell_type": "code",
   "outputs": [],
   "source": [],
   "metadata": {
    "collapsed": false
   },
   "id": "76004d8b0ed8e4b4"
  }
 ],
 "metadata": {
  "kernelspec": {
   "display_name": "Python 3 (ipykernel)",
   "language": "python",
   "name": "python3"
  },
  "language_info": {
   "codemirror_mode": {
    "name": "ipython",
    "version": 3
   },
   "file_extension": ".py",
   "mimetype": "text/x-python",
   "name": "python",
   "nbconvert_exporter": "python",
   "pygments_lexer": "ipython3",
   "version": "3.9.7"
  }
 },
 "nbformat": 4,
 "nbformat_minor": 5
}
