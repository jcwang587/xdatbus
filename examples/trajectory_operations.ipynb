{
 "cells": [
  {
   "cell_type": "markdown",
   "source": [
    "# Example 1: Trajectory operations\n",
    "\n",
    "This notebook is used to introduce basic usage of xdatbus for some common operations on AIMD data\n",
    "\n",
    "## Aggregating XDATCAR "
   ],
   "metadata": {
    "collapsed": false
   },
   "id": "2aae3491c04c8493"
  },
  {
   "cell_type": "code",
   "execution_count": 1,
   "outputs": [],
   "source": [
    "import os\n",
    "from xdatbus import xdc_aggregate"
   ],
   "metadata": {
    "collapsed": false,
    "ExecuteTime": {
     "end_time": "2024-03-15T18:48:15.680812Z",
     "start_time": "2024-03-15T18:48:12.666761Z"
    }
   },
   "id": "initial_id"
  },
  {
   "cell_type": "code",
   "execution_count": 2,
   "outputs": [],
   "source": [
    "xdc_dir = \"../tests/data/xdatcar\"\n",
    "main_tmp_dir = os.path.dirname(xdc_dir)"
   ],
   "metadata": {
    "collapsed": false,
    "ExecuteTime": {
     "end_time": "2024-03-15T18:48:15.696289Z",
     "start_time": "2024-03-15T18:48:15.681812Z"
    }
   },
   "id": "21b41a95b0219c3e"
  },
  {
   "cell_type": "code",
   "execution_count": 3,
   "outputs": [
    {
     "ename": "TypeError",
     "evalue": "xdc_aggregate() got an unexpected keyword argument 'output_path'",
     "output_type": "error",
     "traceback": [
      "\u001B[1;31m---------------------------------------------------------------------------\u001B[0m",
      "\u001B[1;31mTypeError\u001B[0m                                 Traceback (most recent call last)",
      "Cell \u001B[1;32mIn[3], line 1\u001B[0m\n\u001B[1;32m----> 1\u001B[0m \u001B[43mxdc_aggregate\u001B[49m\u001B[43m(\u001B[49m\u001B[43mxdc_dir\u001B[49m\u001B[38;5;241;43m=\u001B[39;49m\u001B[43mxdc_dir\u001B[49m\u001B[43m,\u001B[49m\u001B[43m \u001B[49m\u001B[43moutput_path\u001B[49m\u001B[38;5;241;43m=\u001B[39;49m\u001B[43mmain_tmp_dir\u001B[49m\u001B[43m)\u001B[49m\n",
      "\u001B[1;31mTypeError\u001B[0m: xdc_aggregate() got an unexpected keyword argument 'output_path'"
     ]
    }
   ],
   "source": [
    "xdc_aggregate(xdc_dir=xdc_dir, output_path=main_tmp_dir)"
   ],
   "metadata": {
    "collapsed": false,
    "ExecuteTime": {
     "end_time": "2024-03-15T18:48:16.183209Z",
     "start_time": "2024-03-15T18:48:15.698279Z"
    }
   },
   "id": "cb587ad5d2c30d46"
  },
  {
   "cell_type": "code",
   "outputs": [],
   "source": [],
   "metadata": {
    "collapsed": false
   },
   "id": "2f8a64119d0672bb"
  }
 ],
 "metadata": {
  "kernelspec": {
   "display_name": "Python 3 (ipykernel)",
   "language": "python",
   "name": "python3"
  },
  "language_info": {
   "codemirror_mode": {
    "name": "ipython",
    "version": 3
   },
   "file_extension": ".py",
   "mimetype": "text/x-python",
   "name": "python",
   "nbconvert_exporter": "python",
   "pygments_lexer": "ipython3",
   "version": "3.10.4"
  }
 },
 "nbformat": 4,
 "nbformat_minor": 5
}
