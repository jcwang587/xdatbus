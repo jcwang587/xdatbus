{
 "cells": [
  {
   "cell_type": "markdown",
   "source": [
    "# Example 1: Trajectory operations\n",
    "\n",
    "This notebook is used to introduce basic usage of xdatbus for some common operations on AIMD data\n",
    "\n",
    "## Aggregating XDATCAR "
   ],
   "metadata": {
    "collapsed": false
   },
   "id": "2aae3491c04c8493"
  },
  {
   "cell_type": "code",
   "execution_count": 5,
   "outputs": [],
   "source": [
    "import os\n",
    "from xdatbus import xdc_aggregate"
   ],
   "metadata": {
    "collapsed": false,
    "ExecuteTime": {
     "end_time": "2023-10-27T03:34:08.638713Z",
     "start_time": "2023-10-27T03:34:08.624707100Z"
    }
   },
   "id": "initial_id"
  },
  {
   "cell_type": "code",
   "execution_count": 6,
   "outputs": [],
   "source": [
    "xdc_dir = \"../tests/data/xdatcar\"\n",
    "main_tmp_dir = os.path.dirname(xdc_dir)"
   ],
   "metadata": {
    "collapsed": false,
    "ExecuteTime": {
     "end_time": "2023-10-27T03:34:14.692473500Z",
     "start_time": "2023-10-27T03:34:14.674960100Z"
    }
   },
   "id": "21b41a95b0219c3e"
  },
  {
   "cell_type": "code",
   "execution_count": 7,
   "outputs": [
    {
     "name": "stdout",
     "output_type": "stream",
     "text": [
      "Wrapping XDATCAR_01 ...\n",
      "Number of frames in XDATCAR_01: 5000\n",
      "Wrapping XDATCAR_02 ...\n",
      "Number of frames in XDATCAR_02: 5000\n",
      "Wrapping XDATCAR_03 ...\n",
      "Number of frames in XDATCAR_03: 5000\n",
      "Combining XDATCAR files into one XDATCAR file ...\n",
      "Appending XDATCAR_02 ...\n",
      "Appending XDATCAR_03 ...\n",
      "xdatbus-func: f01_xdc_aggregate: Done!\n"
     ]
    }
   ],
   "source": [
    "xdc_aggregate(xdc_dir=xdc_dir, output_path=main_tmp_dir)"
   ],
   "metadata": {
    "collapsed": false,
    "ExecuteTime": {
     "end_time": "2023-10-27T03:34:56.868669500Z",
     "start_time": "2023-10-27T03:34:16.142097300Z"
    }
   },
   "id": "cb587ad5d2c30d46"
  }
 ],
 "metadata": {
  "kernelspec": {
   "display_name": "Python 3 (ipykernel)",
   "language": "python",
   "name": "python3"
  },
  "language_info": {
   "codemirror_mode": {
    "name": "ipython",
    "version": 3
   },
   "file_extension": ".py",
   "mimetype": "text/x-python",
   "name": "python",
   "nbconvert_exporter": "python",
   "pygments_lexer": "ipython3",
   "version": "3.10.4"
  }
 },
 "nbformat": 4,
 "nbformat_minor": 5
}
