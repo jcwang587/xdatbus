{
  "cells": [
    {
      "cell_type": "markdown",
      "id": "2aae3491c04c8493",
      "metadata": {
        "id": "2aae3491c04c8493"
      },
      "source": [
        "# Example 1: Trajectory operations\n",
        "\n",
        "This notebook is used to introduce basic usage of xdatbus for some common operations on AIMD data\n",
        "\n",
        "## Aggregating XDATCAR"
      ]
    },
    {
      "cell_type": "code",
      "source": [
        "!pip install xdatbus &> /dev/null"
      ],
      "metadata": {
        "id": "kanvHK0JdvrB"
      },
      "id": "kanvHK0JdvrB",
      "execution_count": 1,
      "outputs": []
    },
    {
      "cell_type": "code",
      "execution_count": 2,
      "id": "initial_id",
      "metadata": {
        "ExecuteTime": {
          "end_time": "2024-03-15T18:50:04.313729Z",
          "start_time": "2024-03-15T18:50:04.301729Z"
        },
        "colab": {
          "base_uri": "https://localhost:8080/"
        },
        "id": "initial_id",
        "outputId": "aaec2377-1dee-4cdf-dfd8-e6778cbd236a"
      },
      "outputs": [
        {
          "output_type": "stream",
          "name": "stderr",
          "text": [
            "WARNING:MDAnalysis.coordinates.AMBER:netCDF4 is not available. Writing AMBER ncdf files will be slow.\n"
          ]
        }
      ],
      "source": [
        "import os\n",
        "from xdatbus import xdc_aggregate"
      ]
    },
    {
      "cell_type": "code",
      "execution_count": 3,
      "id": "21b41a95b0219c3e",
      "metadata": {
        "ExecuteTime": {
          "end_time": "2024-03-15T18:50:05.499818Z",
          "start_time": "2024-03-15T18:50:05.482281Z"
        },
        "id": "21b41a95b0219c3e"
      },
      "outputs": [],
      "source": [
        "xdc_dir = \"../tests/data/xdatcar\"\n",
        "xdb_dir = os.path.dirname(xdc_dir)"
      ]
    },
    {
      "cell_type": "code",
      "execution_count": 4,
      "id": "cb587ad5d2c30d46",
      "metadata": {
        "ExecuteTime": {
          "end_time": "2024-03-15T18:50:07.235907Z",
          "start_time": "2024-03-15T18:50:06.406110Z"
        },
        "colab": {
          "base_uri": "https://localhost:8080/",
          "height": 52
        },
        "id": "cb587ad5d2c30d46",
        "outputId": "a33f48d1-c6cb-4d1d-d339-dbc0d21ef3ee"
      },
      "outputs": [
        {
          "output_type": "display_data",
          "data": {
            "text/plain": [
              "\u001b[2;36m[19:03:31]\u001b[0m\u001b[2;36m \u001b[0m\u001b[1m[\u001b[0mErrno \u001b[1;36m2\u001b[0m\u001b[1m]\u001b[0m No such file or directory: \u001b[32m'../tests/data/xdatcar'\u001b[0m                                            \n"
            ],
            "text/html": [
              "<pre style=\"white-space:pre;overflow-x:auto;line-height:normal;font-family:Menlo,'DejaVu Sans Mono',consolas,'Courier New',monospace\"><span style=\"color: #7fbfbf; text-decoration-color: #7fbfbf\">[19:03:31] </span><span style=\"font-weight: bold\">[</span>Errno <span style=\"color: #008080; text-decoration-color: #008080; font-weight: bold\">2</span><span style=\"font-weight: bold\">]</span> No such file or directory: <span style=\"color: #008000; text-decoration-color: #008000\">'../tests/data/xdatcar'</span>                                            \n",
              "</pre>\n"
            ]
          },
          "metadata": {}
        },
        {
          "output_type": "display_data",
          "data": {
            "text/plain": [
              "\u001b[2;36m          \u001b[0m\u001b[2;36m \u001b[0m🚌 xdatbus xdc_aggregate: Failed!                                                                       \n"
            ],
            "text/html": [
              "<pre style=\"white-space:pre;overflow-x:auto;line-height:normal;font-family:Menlo,'DejaVu Sans Mono',consolas,'Courier New',monospace\"><span style=\"color: #7fbfbf; text-decoration-color: #7fbfbf\">           </span>🚌 xdatbus xdc_aggregate: Failed!                                                                       \n",
              "</pre>\n"
            ]
          },
          "metadata": {}
        }
      ],
      "source": [
        "xdc_aggregate(xdc_dir=xdc_dir, output_dir=xdb_dir)"
      ]
    },
    {
      "cell_type": "code",
      "outputs": [],
      "source": [],
      "metadata": {
        "id": "76004d8b0ed8e4b4"
      },
      "id": "76004d8b0ed8e4b4",
      "execution_count": 4
    }
  ],
  "metadata": {
    "kernelspec": {
      "display_name": "Python 3 (ipykernel)",
      "language": "python",
      "name": "python3"
    },
    "language_info": {
      "codemirror_mode": {
        "name": "ipython",
        "version": 3
      },
      "file_extension": ".py",
      "mimetype": "text/x-python",
      "name": "python",
      "nbconvert_exporter": "python",
      "pygments_lexer": "ipython3",
      "version": "3.9.7"
    },
    "colab": {
      "provenance": []
    }
  },
  "nbformat": 4,
  "nbformat_minor": 5
}